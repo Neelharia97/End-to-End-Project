{
 "cells": [
  {
   "cell_type": "code",
   "execution_count": 1,
   "metadata": {},
   "outputs": [
    {
     "name": "stdout",
     "output_type": "stream",
     "text": [
      "Requirement already satisfied: pymongo in c:\\users\\neelh\\appdata\\local\\programs\\python\\python37\\lib\\site-packages (3.11.3)\n"
     ]
    }
   ],
   "source": [
    "!pip install pymongo"
   ]
  },
  {
   "cell_type": "code",
   "execution_count": 2,
   "metadata": {},
   "outputs": [],
   "source": [
    "import pymongo"
   ]
  },
  {
   "cell_type": "code",
   "execution_count": 29,
   "metadata": {},
   "outputs": [
    {
     "name": "stdout",
     "output_type": "stream",
     "text": [
      "['admin', 'config', 'local']\n"
     ]
    }
   ],
   "source": [
    "default_connection = \"mongodb://localhost:27017/\"\n",
    "db_name = 'User_data'\n",
    "#establishing connection with mongoDB\n",
    "client = pymongo.MongoClient(default_connection)\n",
    "\n",
    "#checking the databases \n",
    "print(client.list_database_names())\n",
    "\n",
    "#creating Database\n",
    "dataBase = client[db_name]"
   ]
  },
  {
   "cell_type": "code",
   "execution_count": 30,
   "metadata": {},
   "outputs": [
    {
     "name": "stdout",
     "output_type": "stream",
     "text": [
      "User_data not present OR no collection present\n",
      "User_data not present OR no collection present\n",
      "User_data not present OR no collection present\n"
     ]
    }
   ],
   "source": [
    "def checkExistence_DB(db_name, client):\n",
    "    db_list = client.list_database_names()\n",
    "    for name in db_list:\n",
    "        if db_name == name:\n",
    "            print(\"{} already exists\".format(db_name))\n",
    "        else:\n",
    "            print(\"{} not present OR no collection present\".format(db_name))\n",
    "_ = checkExistence_DB(db_name = db_name, client = client)"
   ]
  },
  {
   "cell_type": "code",
   "execution_count": 31,
   "metadata": {},
   "outputs": [
    {
     "data": {
      "text/plain": [
       "['admin', 'config', 'local']"
      ]
     },
     "execution_count": 31,
     "metadata": {},
     "output_type": "execute_result"
    }
   ],
   "source": [
    "client.list_database_names()"
   ]
  },
  {
   "cell_type": "code",
   "execution_count": 32,
   "metadata": {},
   "outputs": [],
   "source": [
    "collection_name = 'Users'\n",
    "collection = dataBase[collection_name]\n"
   ]
  },
  {
   "cell_type": "code",
   "execution_count": 43,
   "metadata": {},
   "outputs": [
    {
     "name": "stdout",
     "output_type": "stream",
     "text": [
      "Users present in Database.\n"
     ]
    }
   ],
   "source": [
    "def checkExistence_COL(collection_name, db_name, db):\n",
    "    collection_list = db.list_collection_names()\n",
    "    if collection_name in collection_list:\n",
    "        print(\"{} present in Database.\".format(collection_name))\n",
    "    else:\n",
    "        print(\"{} doesn't exist in Database\".format(collection_name))\n",
    "    \n",
    "_ = checkExistence_COL(collection_name=collection_name, db_name = db_name, db = dataBase)"
   ]
  },
  {
   "cell_type": "code",
   "execution_count": 36,
   "metadata": {},
   "outputs": [
    {
     "data": {
      "text/plain": [
       "<pymongo.results.InsertOneResult at 0x1ae5b9e9e88>"
      ]
     },
     "execution_count": 36,
     "metadata": {},
     "output_type": "execute_result"
    }
   ],
   "source": [
    "#Insert a Record\n",
    "record = {\n",
    "    \"Name\" : \"Neel\",\n",
    "    \"Last Name\": \"Haria\",\n",
    "    \"Search\": \"Machine Learning\"\n",
    "}\n",
    "\n",
    "collection.insert_one(record)"
   ]
  },
  {
   "cell_type": "code",
   "execution_count": 38,
   "metadata": {},
   "outputs": [
    {
     "data": {
      "text/plain": [
       "['User_data', 'admin', 'config', 'local']"
      ]
     },
     "execution_count": 38,
     "metadata": {},
     "output_type": "execute_result"
    }
   ],
   "source": [
    "#After adding a record, you can see the new data base\n",
    "client.list_database_names()"
   ]
  },
  {
   "cell_type": "code",
   "execution_count": 44,
   "metadata": {},
   "outputs": [
    {
     "name": "stdout",
     "output_type": "stream",
     "text": [
      "Users present in Database.\n"
     ]
    }
   ],
   "source": [
    "#Now check if the existense of Collections and Database\n",
    "_ = checkExistence_COL(collection_name = collection_name, db_name = db_name, db = dataBase)"
   ]
  },
  {
   "cell_type": "code",
   "execution_count": 46,
   "metadata": {},
   "outputs": [
    {
     "data": {
      "text/plain": [
       "<pymongo.results.InsertManyResult at 0x1ae5b081988>"
      ]
     },
     "execution_count": 46,
     "metadata": {},
     "output_type": "execute_result"
    }
   ],
   "source": [
    "#Inserting multiple records\n",
    "list_of_records = [\n",
    "    {\"Name\":\"Asmita\",\n",
    "    \"Last Name\": \"Bane\",\n",
    "    \"Course\":\"MIS\"},\n",
    "    \n",
    "    {\"Name\":\"Sattvik\",\n",
    "    \"Last Name\": \"Sahai\",\n",
    "    \"Course\":\"ML\"},\n",
    "    \n",
    "    {\"Name\":\"Krishna\",\n",
    "    \"Last Name\": \"Singh\",\n",
    "    \"Course\":\"EE\"},\n",
    "    \n",
    "    {\"Name\":\"Yuvraj\",\n",
    "    \"Last Name\": \"Shivtare\",\n",
    "    \"Course\":\"AI\"},\n",
    "    \n",
    "]\n",
    "\n",
    "collection.insert_many(list_of_records)"
   ]
  },
  {
   "cell_type": "code",
   "execution_count": 57,
   "metadata": {},
   "outputs": [
    {
     "name": "stdout",
     "output_type": "stream",
     "text": [
      "0: {'_id': ObjectId('60736ae85335f4ea36a8db31'), 'Name': 'Neel', 'Last Name': 'Haria', 'Search': 'Machine Learning'}\n",
      "1: {'_id': ObjectId('60736e3f5335f4ea36a8db32'), 'Name': 'Asmita', 'Last Name': 'Bane', 'Course': 'MIS'}\n",
      "2: {'_id': ObjectId('60736e3f5335f4ea36a8db33'), 'Name': 'Sattvik', 'Last Name': 'Sahai', 'Course': 'ML'}\n",
      "3: {'_id': ObjectId('60736e3f5335f4ea36a8db34'), 'Name': 'Krishna', 'Last Name': 'Singh', 'Course': 'EE'}\n",
      "4: {'_id': ObjectId('60736e3f5335f4ea36a8db35'), 'Name': 'Yuvraj', 'Last Name': 'Shivtare', 'Course': 'AI'}\n",
      "5: {'_id': ObjectId('607371875335f4ea36a8db36'), 'Name': 'Asmita', 'Last Name': 'Bane', 'Course': 'MIS'}\n",
      "6: {'_id': ObjectId('607371875335f4ea36a8db37'), 'Name': 'Sattvik', 'Last Name': 'Sahai', 'Course': 'ML'}\n",
      "7: {'_id': ObjectId('607371875335f4ea36a8db38'), 'Name': 'Krishna', 'Last Name': 'Singh', 'Course': 'EE'}\n",
      "8: {'_id': ObjectId('607371875335f4ea36a8db39'), 'Name': 'Yuvraj', 'Last Name': 'Shivtare', 'Course': 'AI'}\n"
     ]
    }
   ],
   "source": [
    "#Using Find method\n",
    "users = collection.find()\n",
    "for _id, name in enumerate(users):\n",
    "    print(f\"{_id}: {name}\")"
   ]
  },
  {
   "cell_type": "code",
   "execution_count": 61,
   "metadata": {},
   "outputs": [
    {
     "name": "stdout",
     "output_type": "stream",
     "text": [
      "Haria\n"
     ]
    }
   ],
   "source": [
    "#Querying Results from Existing Data base\n",
    "\n",
    "# what is Neel's last name\n",
    "query1 = {'Name':'Neel'}\n",
    "result = collection.find(query1)\n",
    "for data in result:\n",
    "    print(data['Last Name'])"
   ]
  },
  {
   "cell_type": "code",
   "execution_count": 62,
   "metadata": {},
   "outputs": [
    {
     "data": {
      "text/plain": [
       "<pymongo.results.DeleteResult at 0x1ae5c884208>"
      ]
     },
     "execution_count": 62,
     "metadata": {},
     "output_type": "execute_result"
    }
   ],
   "source": [
    "# Delete Some data\n",
    "delete_query = {'Name':'Krishna'}\n",
    "collection.delete_one(delete_query)"
   ]
  },
  {
   "cell_type": "code",
   "execution_count": 63,
   "metadata": {},
   "outputs": [],
   "source": [
    "#You can drop the entire collection by using {collection.drop()} command"
   ]
  },
  {
   "cell_type": "code",
   "execution_count": 65,
   "metadata": {},
   "outputs": [
    {
     "data": {
      "text/plain": [
       "<pymongo.results.UpdateResult at 0x1ae5c327e48>"
      ]
     },
     "execution_count": 65,
     "metadata": {},
     "output_type": "execute_result"
    }
   ],
   "source": [
    "#Update data\n",
    "#Lets change 'Search' column in Neel's data to 'Course'\n",
    "\n",
    "present_data = {'Search': \"Machine Learning\"}\n",
    "new_data = {\"$set\":{'Course': 'CPE'}}\n",
    "collection.update_one(present_data, new_data) #This won't delete the search column\n",
    "\n"
   ]
  },
  {
   "cell_type": "code",
   "execution_count": null,
   "metadata": {},
   "outputs": [],
   "source": []
  }
 ],
 "metadata": {
  "kernelspec": {
   "display_name": "Python 3",
   "language": "python",
   "name": "python3"
  },
  "language_info": {
   "codemirror_mode": {
    "name": "ipython",
    "version": 3
   },
   "file_extension": ".py",
   "mimetype": "text/x-python",
   "name": "python",
   "nbconvert_exporter": "python",
   "pygments_lexer": "ipython3",
   "version": "3.7.1"
  }
 },
 "nbformat": 4,
 "nbformat_minor": 4
}
